{
  "cells": [
    {
      "cell_type": "markdown",
      "metadata": {
        "id": "Kx8GLDF86QrR"
      },
      "source": [
        "IMPORTING ALL RELEVANT LIBRARIES"
      ]
    },
    {
      "cell_type": "code",
      "execution_count": null,
      "metadata": {
        "id": "Wn6HS5JZuzZz"
      },
      "outputs": [],
      "source": [
        "import math\n",
        "import numpy as np\n",
        "import pandas as pd\n",
        "import seaborn as sns\n",
        "import matplotlib.pyplot as plt\n",
        "import re\n",
        "from sklearn.feature_extraction.text import TfidfVectorizer\n",
        "import scipy\n",
        "from scipy.sparse import coo_matrix, hstack\n",
        "from google.colab import drive"
      ]
    },
    {
      "cell_type": "markdown",
      "source": [
        "LOADING DATASET AND TRAINING SET FILES"
      ],
      "metadata": {
        "id": "yHglO6yccJb7"
      }
    },
    {
      "cell_type": "code",
      "execution_count": null,
      "metadata": {
        "id": "TcdCCB8pwe4B",
        "colab": {
          "base_uri": "https://localhost:8080/"
        },
        "outputId": "331d6c5c-a5fc-453e-99ee-1b5e45a4727e"
      },
      "outputs": [
        {
          "output_type": "stream",
          "name": "stdout",
          "text": [
            "Mounted at /content/drive\n"
          ]
        }
      ],
      "source": [
        "drive.mount('/content/drive')"
      ]
    },
    {
      "cell_type": "code",
      "execution_count": null,
      "metadata": {
        "id": "5KNxU8KIuzZ1"
      },
      "outputs": [],
      "source": [
        "dataset=pd.read_csv(\"/content/drive/MyDrive/ML/train.csv\")\n",
        "test=pd.read_csv(\"/content/drive/MyDrive/ML/test.csv\")"
      ]
    },
    {
      "cell_type": "markdown",
      "source": [
        "REMOVING INVALID ENTRIES"
      ],
      "metadata": {
        "id": "Jq152v_QcNF8"
      }
    },
    {
      "cell_type": "code",
      "execution_count": null,
      "metadata": {
        "id": "BXg-8ej98aua"
      },
      "outputs": [],
      "source": [
        "dataset=dataset[dataset[\"PRODUCT_PRICE\"]>0]"
      ]
    },
    {
      "cell_type": "markdown",
      "metadata": {
        "id": "Y55o36LrUq8c"
      },
      "source": [
        "PRELIMINARY DATA ANALYSIS"
      ]
    },
    {
      "cell_type": "code",
      "execution_count": null,
      "metadata": {
        "id": "9feyGl0euzZ1",
        "colab": {
          "base_uri": "https://localhost:8080/"
        },
        "outputId": "91d88530-6e05-4120-cbc7-dad0496177e5"
      },
      "outputs": [
        {
          "output_type": "stream",
          "name": "stdout",
          "text": [
            "1259414\n",
            "8\n"
          ]
        }
      ],
      "source": [
        "print(len(dataset))\n",
        "print(len(dataset.columns))"
      ]
    },
    {
      "cell_type": "code",
      "execution_count": null,
      "metadata": {
        "id": "pic-cZYdGMKs",
        "colab": {
          "base_uri": "https://localhost:8080/",
          "height": 337
        },
        "outputId": "de32655d-7941-4282-bcfb-c98a314b3529"
      },
      "outputs": [
        {
          "output_type": "execute_result",
          "data": {
            "text/plain": [
              "   PRODUCT_ID                      PRODUCT_NAME  PRODUCT_CONDITION  \\\n",
              "0      952289     Lipstick queen reserved maiwu                  4   \n",
              "1      121903         Garbage Pail Kids blu ray                  3   \n",
              "2      280534                 green floam/slime                  1   \n",
              "3      787961             Wallet beige monogram                  1   \n",
              "4      479292  Triangle Bike Or Body Blue Light                  3   \n",
              "\n",
              "                            CATEGORY PRODUCT_BRAND  SHIPPING_AVAILABILITY  \\\n",
              "0                 Beauty/Makeup/Lips           NaN                      0   \n",
              "1          Electronics/Media/Blu-Ray           NaN                      1   \n",
              "2            Kids/Toys/Arts & Crafts           NaN                      0   \n",
              "3  Women/Women's Accessories/Wallets           NaN                      0   \n",
              "4   Sports & Outdoors/Outdoors/Other           NaN                      0   \n",
              "\n",
              "                                 PRODUCT_DESCRIPTION  PRODUCT_PRICE  \n",
              "0  Lipstick Queen Jean Queen and medieval lipstic...           20.0  \n",
              "1  26Plays great. Tested. Watched once. No scratc...           15.0  \n",
              "2  -6 oz, dragon fruit scented - KEEP OUT OF REAC...            8.0  \n",
              "3                        Wallet brand new never used           31.0  \n",
              "4  Triangle Bike Or Body Blue Light, steady or fl...            8.0  "
            ],
            "text/html": [
              "\n",
              "  <div id=\"df-f06c5062-aa77-468b-b2b3-38018c0d5d0e\">\n",
              "    <div class=\"colab-df-container\">\n",
              "      <div>\n",
              "<style scoped>\n",
              "    .dataframe tbody tr th:only-of-type {\n",
              "        vertical-align: middle;\n",
              "    }\n",
              "\n",
              "    .dataframe tbody tr th {\n",
              "        vertical-align: top;\n",
              "    }\n",
              "\n",
              "    .dataframe thead th {\n",
              "        text-align: right;\n",
              "    }\n",
              "</style>\n",
              "<table border=\"1\" class=\"dataframe\">\n",
              "  <thead>\n",
              "    <tr style=\"text-align: right;\">\n",
              "      <th></th>\n",
              "      <th>PRODUCT_ID</th>\n",
              "      <th>PRODUCT_NAME</th>\n",
              "      <th>PRODUCT_CONDITION</th>\n",
              "      <th>CATEGORY</th>\n",
              "      <th>PRODUCT_BRAND</th>\n",
              "      <th>SHIPPING_AVAILABILITY</th>\n",
              "      <th>PRODUCT_DESCRIPTION</th>\n",
              "      <th>PRODUCT_PRICE</th>\n",
              "    </tr>\n",
              "  </thead>\n",
              "  <tbody>\n",
              "    <tr>\n",
              "      <th>0</th>\n",
              "      <td>952289</td>\n",
              "      <td>Lipstick queen reserved maiwu</td>\n",
              "      <td>4</td>\n",
              "      <td>Beauty/Makeup/Lips</td>\n",
              "      <td>NaN</td>\n",
              "      <td>0</td>\n",
              "      <td>Lipstick Queen Jean Queen and medieval lipstic...</td>\n",
              "      <td>20.0</td>\n",
              "    </tr>\n",
              "    <tr>\n",
              "      <th>1</th>\n",
              "      <td>121903</td>\n",
              "      <td>Garbage Pail Kids blu ray</td>\n",
              "      <td>3</td>\n",
              "      <td>Electronics/Media/Blu-Ray</td>\n",
              "      <td>NaN</td>\n",
              "      <td>1</td>\n",
              "      <td>26Plays great. Tested. Watched once. No scratc...</td>\n",
              "      <td>15.0</td>\n",
              "    </tr>\n",
              "    <tr>\n",
              "      <th>2</th>\n",
              "      <td>280534</td>\n",
              "      <td>green floam/slime</td>\n",
              "      <td>1</td>\n",
              "      <td>Kids/Toys/Arts &amp; Crafts</td>\n",
              "      <td>NaN</td>\n",
              "      <td>0</td>\n",
              "      <td>-6 oz, dragon fruit scented - KEEP OUT OF REAC...</td>\n",
              "      <td>8.0</td>\n",
              "    </tr>\n",
              "    <tr>\n",
              "      <th>3</th>\n",
              "      <td>787961</td>\n",
              "      <td>Wallet beige monogram</td>\n",
              "      <td>1</td>\n",
              "      <td>Women/Women's Accessories/Wallets</td>\n",
              "      <td>NaN</td>\n",
              "      <td>0</td>\n",
              "      <td>Wallet brand new never used</td>\n",
              "      <td>31.0</td>\n",
              "    </tr>\n",
              "    <tr>\n",
              "      <th>4</th>\n",
              "      <td>479292</td>\n",
              "      <td>Triangle Bike Or Body Blue Light</td>\n",
              "      <td>3</td>\n",
              "      <td>Sports &amp; Outdoors/Outdoors/Other</td>\n",
              "      <td>NaN</td>\n",
              "      <td>0</td>\n",
              "      <td>Triangle Bike Or Body Blue Light, steady or fl...</td>\n",
              "      <td>8.0</td>\n",
              "    </tr>\n",
              "  </tbody>\n",
              "</table>\n",
              "</div>\n",
              "      <button class=\"colab-df-convert\" onclick=\"convertToInteractive('df-f06c5062-aa77-468b-b2b3-38018c0d5d0e')\"\n",
              "              title=\"Convert this dataframe to an interactive table.\"\n",
              "              style=\"display:none;\">\n",
              "        \n",
              "  <svg xmlns=\"http://www.w3.org/2000/svg\" height=\"24px\"viewBox=\"0 0 24 24\"\n",
              "       width=\"24px\">\n",
              "    <path d=\"M0 0h24v24H0V0z\" fill=\"none\"/>\n",
              "    <path d=\"M18.56 5.44l.94 2.06.94-2.06 2.06-.94-2.06-.94-.94-2.06-.94 2.06-2.06.94zm-11 1L8.5 8.5l.94-2.06 2.06-.94-2.06-.94L8.5 2.5l-.94 2.06-2.06.94zm10 10l.94 2.06.94-2.06 2.06-.94-2.06-.94-.94-2.06-.94 2.06-2.06.94z\"/><path d=\"M17.41 7.96l-1.37-1.37c-.4-.4-.92-.59-1.43-.59-.52 0-1.04.2-1.43.59L10.3 9.45l-7.72 7.72c-.78.78-.78 2.05 0 2.83L4 21.41c.39.39.9.59 1.41.59.51 0 1.02-.2 1.41-.59l7.78-7.78 2.81-2.81c.8-.78.8-2.07 0-2.86zM5.41 20L4 18.59l7.72-7.72 1.47 1.35L5.41 20z\"/>\n",
              "  </svg>\n",
              "      </button>\n",
              "      \n",
              "  <style>\n",
              "    .colab-df-container {\n",
              "      display:flex;\n",
              "      flex-wrap:wrap;\n",
              "      gap: 12px;\n",
              "    }\n",
              "\n",
              "    .colab-df-convert {\n",
              "      background-color: #E8F0FE;\n",
              "      border: none;\n",
              "      border-radius: 50%;\n",
              "      cursor: pointer;\n",
              "      display: none;\n",
              "      fill: #1967D2;\n",
              "      height: 32px;\n",
              "      padding: 0 0 0 0;\n",
              "      width: 32px;\n",
              "    }\n",
              "\n",
              "    .colab-df-convert:hover {\n",
              "      background-color: #E2EBFA;\n",
              "      box-shadow: 0px 1px 2px rgba(60, 64, 67, 0.3), 0px 1px 3px 1px rgba(60, 64, 67, 0.15);\n",
              "      fill: #174EA6;\n",
              "    }\n",
              "\n",
              "    [theme=dark] .colab-df-convert {\n",
              "      background-color: #3B4455;\n",
              "      fill: #D2E3FC;\n",
              "    }\n",
              "\n",
              "    [theme=dark] .colab-df-convert:hover {\n",
              "      background-color: #434B5C;\n",
              "      box-shadow: 0px 1px 3px 1px rgba(0, 0, 0, 0.15);\n",
              "      filter: drop-shadow(0px 1px 2px rgba(0, 0, 0, 0.3));\n",
              "      fill: #FFFFFF;\n",
              "    }\n",
              "  </style>\n",
              "\n",
              "      <script>\n",
              "        const buttonEl =\n",
              "          document.querySelector('#df-f06c5062-aa77-468b-b2b3-38018c0d5d0e button.colab-df-convert');\n",
              "        buttonEl.style.display =\n",
              "          google.colab.kernel.accessAllowed ? 'block' : 'none';\n",
              "\n",
              "        async function convertToInteractive(key) {\n",
              "          const element = document.querySelector('#df-f06c5062-aa77-468b-b2b3-38018c0d5d0e');\n",
              "          const dataTable =\n",
              "            await google.colab.kernel.invokeFunction('convertToInteractive',\n",
              "                                                     [key], {});\n",
              "          if (!dataTable) return;\n",
              "\n",
              "          const docLinkHtml = 'Like what you see? Visit the ' +\n",
              "            '<a target=\"_blank\" href=https://colab.research.google.com/notebooks/data_table.ipynb>data table notebook</a>'\n",
              "            + ' to learn more about interactive tables.';\n",
              "          element.innerHTML = '';\n",
              "          dataTable['output_type'] = 'display_data';\n",
              "          await google.colab.output.renderOutput(dataTable, element);\n",
              "          const docLink = document.createElement('div');\n",
              "          docLink.innerHTML = docLinkHtml;\n",
              "          element.appendChild(docLink);\n",
              "        }\n",
              "      </script>\n",
              "    </div>\n",
              "  </div>\n",
              "  "
            ]
          },
          "metadata": {},
          "execution_count": 6
        }
      ],
      "source": [
        "dataset.head()"
      ]
    },
    {
      "cell_type": "code",
      "execution_count": null,
      "metadata": {
        "id": "UEr10p8xXNCA",
        "colab": {
          "base_uri": "https://localhost:8080/"
        },
        "outputId": "0c43f8e4-5ddd-4c60-fee6-1078ee001285"
      },
      "outputs": [
        {
          "output_type": "stream",
          "name": "stdout",
          "text": [
            "PRODUCT_ID                   0\n",
            "PRODUCT_NAME                 0\n",
            "PRODUCT_CONDITION            0\n",
            "CATEGORY                   911\n",
            "PRODUCT_BRAND            94797\n",
            "SHIPPING_AVAILABILITY        0\n",
            "PRODUCT_DESCRIPTION          1\n",
            "dtype: int64\n"
          ]
        }
      ],
      "source": [
        "print(test.isna().sum())"
      ]
    },
    {
      "cell_type": "markdown",
      "metadata": {
        "id": "VqEeyL3hdQym"
      },
      "source": [
        "The rows with null values at the Product description column will be dropped. The null values in Category and Product Brand will be replaced by \"Unbranded\" and \"Uncategorized\" respectively. "
      ]
    },
    {
      "cell_type": "code",
      "execution_count": null,
      "metadata": {
        "id": "Yc154ft-XQyI",
        "colab": {
          "base_uri": "https://localhost:8080/",
          "height": 300
        },
        "outputId": "005390fb-e508-403f-8ea0-e548aaff0e99"
      },
      "outputs": [
        {
          "output_type": "execute_result",
          "data": {
            "text/plain": [
              "         PRODUCT_ID  PRODUCT_CONDITION  SHIPPING_AVAILABILITY  PRODUCT_PRICE\n",
              "count  1.259414e+06       1.259414e+06           1.259414e+06   1.259414e+06\n",
              "mean   7.408659e+05       1.907433e+00           4.472882e-01   2.673618e+01\n",
              "std    4.280122e+05       9.032646e-01           4.972139e-01   3.856483e+01\n",
              "min    0.000000e+00       1.000000e+00           0.000000e+00   3.000000e+00\n",
              "25%    3.698902e+05       1.000000e+00           0.000000e+00   1.000000e+01\n",
              "50%    7.408380e+05       2.000000e+00           0.000000e+00   1.700000e+01\n",
              "75%    1.111328e+06       3.000000e+00           1.000000e+00   2.900000e+01\n",
              "max    1.482534e+06       5.000000e+00           1.000000e+00   2.009000e+03"
            ],
            "text/html": [
              "\n",
              "  <div id=\"df-f8aef25a-36e8-42d0-ab5d-116b4ad69f91\">\n",
              "    <div class=\"colab-df-container\">\n",
              "      <div>\n",
              "<style scoped>\n",
              "    .dataframe tbody tr th:only-of-type {\n",
              "        vertical-align: middle;\n",
              "    }\n",
              "\n",
              "    .dataframe tbody tr th {\n",
              "        vertical-align: top;\n",
              "    }\n",
              "\n",
              "    .dataframe thead th {\n",
              "        text-align: right;\n",
              "    }\n",
              "</style>\n",
              "<table border=\"1\" class=\"dataframe\">\n",
              "  <thead>\n",
              "    <tr style=\"text-align: right;\">\n",
              "      <th></th>\n",
              "      <th>PRODUCT_ID</th>\n",
              "      <th>PRODUCT_CONDITION</th>\n",
              "      <th>SHIPPING_AVAILABILITY</th>\n",
              "      <th>PRODUCT_PRICE</th>\n",
              "    </tr>\n",
              "  </thead>\n",
              "  <tbody>\n",
              "    <tr>\n",
              "      <th>count</th>\n",
              "      <td>1.259414e+06</td>\n",
              "      <td>1.259414e+06</td>\n",
              "      <td>1.259414e+06</td>\n",
              "      <td>1.259414e+06</td>\n",
              "    </tr>\n",
              "    <tr>\n",
              "      <th>mean</th>\n",
              "      <td>7.408659e+05</td>\n",
              "      <td>1.907433e+00</td>\n",
              "      <td>4.472882e-01</td>\n",
              "      <td>2.673618e+01</td>\n",
              "    </tr>\n",
              "    <tr>\n",
              "      <th>std</th>\n",
              "      <td>4.280122e+05</td>\n",
              "      <td>9.032646e-01</td>\n",
              "      <td>4.972139e-01</td>\n",
              "      <td>3.856483e+01</td>\n",
              "    </tr>\n",
              "    <tr>\n",
              "      <th>min</th>\n",
              "      <td>0.000000e+00</td>\n",
              "      <td>1.000000e+00</td>\n",
              "      <td>0.000000e+00</td>\n",
              "      <td>3.000000e+00</td>\n",
              "    </tr>\n",
              "    <tr>\n",
              "      <th>25%</th>\n",
              "      <td>3.698902e+05</td>\n",
              "      <td>1.000000e+00</td>\n",
              "      <td>0.000000e+00</td>\n",
              "      <td>1.000000e+01</td>\n",
              "    </tr>\n",
              "    <tr>\n",
              "      <th>50%</th>\n",
              "      <td>7.408380e+05</td>\n",
              "      <td>2.000000e+00</td>\n",
              "      <td>0.000000e+00</td>\n",
              "      <td>1.700000e+01</td>\n",
              "    </tr>\n",
              "    <tr>\n",
              "      <th>75%</th>\n",
              "      <td>1.111328e+06</td>\n",
              "      <td>3.000000e+00</td>\n",
              "      <td>1.000000e+00</td>\n",
              "      <td>2.900000e+01</td>\n",
              "    </tr>\n",
              "    <tr>\n",
              "      <th>max</th>\n",
              "      <td>1.482534e+06</td>\n",
              "      <td>5.000000e+00</td>\n",
              "      <td>1.000000e+00</td>\n",
              "      <td>2.009000e+03</td>\n",
              "    </tr>\n",
              "  </tbody>\n",
              "</table>\n",
              "</div>\n",
              "      <button class=\"colab-df-convert\" onclick=\"convertToInteractive('df-f8aef25a-36e8-42d0-ab5d-116b4ad69f91')\"\n",
              "              title=\"Convert this dataframe to an interactive table.\"\n",
              "              style=\"display:none;\">\n",
              "        \n",
              "  <svg xmlns=\"http://www.w3.org/2000/svg\" height=\"24px\"viewBox=\"0 0 24 24\"\n",
              "       width=\"24px\">\n",
              "    <path d=\"M0 0h24v24H0V0z\" fill=\"none\"/>\n",
              "    <path d=\"M18.56 5.44l.94 2.06.94-2.06 2.06-.94-2.06-.94-.94-2.06-.94 2.06-2.06.94zm-11 1L8.5 8.5l.94-2.06 2.06-.94-2.06-.94L8.5 2.5l-.94 2.06-2.06.94zm10 10l.94 2.06.94-2.06 2.06-.94-2.06-.94-.94-2.06-.94 2.06-2.06.94z\"/><path d=\"M17.41 7.96l-1.37-1.37c-.4-.4-.92-.59-1.43-.59-.52 0-1.04.2-1.43.59L10.3 9.45l-7.72 7.72c-.78.78-.78 2.05 0 2.83L4 21.41c.39.39.9.59 1.41.59.51 0 1.02-.2 1.41-.59l7.78-7.78 2.81-2.81c.8-.78.8-2.07 0-2.86zM5.41 20L4 18.59l7.72-7.72 1.47 1.35L5.41 20z\"/>\n",
              "  </svg>\n",
              "      </button>\n",
              "      \n",
              "  <style>\n",
              "    .colab-df-container {\n",
              "      display:flex;\n",
              "      flex-wrap:wrap;\n",
              "      gap: 12px;\n",
              "    }\n",
              "\n",
              "    .colab-df-convert {\n",
              "      background-color: #E8F0FE;\n",
              "      border: none;\n",
              "      border-radius: 50%;\n",
              "      cursor: pointer;\n",
              "      display: none;\n",
              "      fill: #1967D2;\n",
              "      height: 32px;\n",
              "      padding: 0 0 0 0;\n",
              "      width: 32px;\n",
              "    }\n",
              "\n",
              "    .colab-df-convert:hover {\n",
              "      background-color: #E2EBFA;\n",
              "      box-shadow: 0px 1px 2px rgba(60, 64, 67, 0.3), 0px 1px 3px 1px rgba(60, 64, 67, 0.15);\n",
              "      fill: #174EA6;\n",
              "    }\n",
              "\n",
              "    [theme=dark] .colab-df-convert {\n",
              "      background-color: #3B4455;\n",
              "      fill: #D2E3FC;\n",
              "    }\n",
              "\n",
              "    [theme=dark] .colab-df-convert:hover {\n",
              "      background-color: #434B5C;\n",
              "      box-shadow: 0px 1px 3px 1px rgba(0, 0, 0, 0.15);\n",
              "      filter: drop-shadow(0px 1px 2px rgba(0, 0, 0, 0.3));\n",
              "      fill: #FFFFFF;\n",
              "    }\n",
              "  </style>\n",
              "\n",
              "      <script>\n",
              "        const buttonEl =\n",
              "          document.querySelector('#df-f8aef25a-36e8-42d0-ab5d-116b4ad69f91 button.colab-df-convert');\n",
              "        buttonEl.style.display =\n",
              "          google.colab.kernel.accessAllowed ? 'block' : 'none';\n",
              "\n",
              "        async function convertToInteractive(key) {\n",
              "          const element = document.querySelector('#df-f8aef25a-36e8-42d0-ab5d-116b4ad69f91');\n",
              "          const dataTable =\n",
              "            await google.colab.kernel.invokeFunction('convertToInteractive',\n",
              "                                                     [key], {});\n",
              "          if (!dataTable) return;\n",
              "\n",
              "          const docLinkHtml = 'Like what you see? Visit the ' +\n",
              "            '<a target=\"_blank\" href=https://colab.research.google.com/notebooks/data_table.ipynb>data table notebook</a>'\n",
              "            + ' to learn more about interactive tables.';\n",
              "          element.innerHTML = '';\n",
              "          dataTable['output_type'] = 'display_data';\n",
              "          await google.colab.output.renderOutput(dataTable, element);\n",
              "          const docLink = document.createElement('div');\n",
              "          docLink.innerHTML = docLinkHtml;\n",
              "          element.appendChild(docLink);\n",
              "        }\n",
              "      </script>\n",
              "    </div>\n",
              "  </div>\n",
              "  "
            ]
          },
          "metadata": {},
          "execution_count": 8
        }
      ],
      "source": [
        "dataset.describe()"
      ]
    },
    {
      "cell_type": "code",
      "execution_count": null,
      "metadata": {
        "id": "lASIhNmTdOMp",
        "colab": {
          "base_uri": "https://localhost:8080/"
        },
        "outputId": "60c0870f-13af-4338-c36f-7fe00a5a5826"
      },
      "outputs": [
        {
          "output_type": "stream",
          "name": "stdout",
          "text": [
            "PRODUCT_ID                    0\n",
            "PRODUCT_NAME                  0\n",
            "PRODUCT_CONDITION             0\n",
            "CATEGORY                   5407\n",
            "PRODUCT_BRAND            537588\n",
            "SHIPPING_AVAILABILITY         0\n",
            "PRODUCT_DESCRIPTION           3\n",
            "PRODUCT_PRICE                 0\n",
            "dtype: int64\n",
            "PRODUCT_ID                   0\n",
            "PRODUCT_NAME                 0\n",
            "PRODUCT_CONDITION            0\n",
            "CATEGORY                   911\n",
            "PRODUCT_BRAND            94797\n",
            "SHIPPING_AVAILABILITY        0\n",
            "PRODUCT_DESCRIPTION          1\n",
            "dtype: int64\n"
          ]
        }
      ],
      "source": [
        "print(dataset.isna().sum())\n",
        "print(test.isna().sum())"
      ]
    },
    {
      "cell_type": "code",
      "execution_count": null,
      "metadata": {
        "id": "VPp34J-BGlIV"
      },
      "outputs": [],
      "source": []
    },
    {
      "cell_type": "markdown",
      "metadata": {
        "id": "PRx50-ctaivB"
      },
      "source": [
        "ELEMENTARY PRE-PROCESSING"
      ]
    },
    {
      "cell_type": "code",
      "execution_count": null,
      "metadata": {
        "id": "gGwqyPIIuzZ3"
      },
      "outputs": [],
      "source": [
        "dataset.drop(axis=\"rows\", labels=dataset.index[dataset[\"PRODUCT_DESCRIPTION\"].isna()], inplace=True)\n",
        "test[\"PRODUCT_DESCRIPTION\"].fillna(\"Null\",inplace=True)\n",
        "dataset[\"PRODUCT_BRAND\"].fillna(\"Unbranded\", inplace=True)\n",
        "test[\"PRODUCT_BRAND\"].fillna(\"Unbranded\", inplace=True)\n",
        "dataset[\"CATEGORY\"].fillna(\"Uncategorized\", inplace=True)\n",
        "test[\"CATEGORY\"].fillna(\"Uncategorized\", inplace=True)"
      ]
    },
    {
      "cell_type": "markdown",
      "metadata": {
        "id": "T4SbUlTJXl88"
      },
      "source": [
        "EXPLORATORY DATA ANALYSIS OF PRODUCT_NAME"
      ]
    },
    {
      "cell_type": "code",
      "execution_count": null,
      "metadata": {
        "id": "XNsw8riRX1O3",
        "colab": {
          "base_uri": "https://localhost:8080/"
        },
        "outputId": "eee199ea-cda9-4232-acfa-e52767d0ce8d"
      },
      "outputs": [
        {
          "output_type": "execute_result",
          "data": {
            "text/plain": [
              "count     1259411\n",
              "unique    1051903\n",
              "top        Bundle\n",
              "freq         1873\n",
              "Name: PRODUCT_NAME, dtype: object"
            ]
          },
          "metadata": {},
          "execution_count": 11
        }
      ],
      "source": [
        "dataset[\"PRODUCT_NAME\"].describe()"
      ]
    },
    {
      "cell_type": "code",
      "execution_count": null,
      "metadata": {
        "id": "_zPtnz4nZr5_",
        "colab": {
          "base_uri": "https://localhost:8080/"
        },
        "outputId": "f987c244-f264-4292-8a8c-4ce250e64907"
      },
      "outputs": [
        {
          "output_type": "execute_result",
          "data": {
            "text/plain": [
              "Bundle                  1873\n",
              "Reserved                 391\n",
              "Converse                 376\n",
              "BUNDLE                   358\n",
              "Dress                    349\n",
              "Lularoe TC leggings      336\n",
              "Coach purse              331\n",
              "Romper                   297\n",
              "Nike                     287\n",
              "Vans                     282\n",
              "American Eagle Jeans     281\n",
              "Lularoe OS leggings      246\n",
              "Miss Me Jeans            243\n",
              "ON HOLD                  237\n",
              "Coach Purse              211\n",
              "Shorts                   210\n",
              "Lularoe Irma             207\n",
              "Coach wallet             204\n",
              "Bundle!                  203\n",
              "Miss me jeans            199\n",
              "Name: PRODUCT_NAME, dtype: int64"
            ]
          },
          "metadata": {},
          "execution_count": 12
        }
      ],
      "source": [
        "dataset[\"PRODUCT_NAME\"].value_counts()[:20]"
      ]
    },
    {
      "cell_type": "markdown",
      "metadata": {
        "id": "ELFo0htCczRm"
      },
      "source": [
        "The Product Name \"Bundle\" appears most commonly. On top of this, it occurs three times in different forms- \"Bundle\", \"BUNDLE\", and \"Bundle!\". Special characters and upper/lower case disputes will be taken care of in pre-processing."
      ]
    },
    {
      "cell_type": "markdown",
      "metadata": {
        "id": "rDLgmaLOdpk7"
      },
      "source": [
        "EXPLORATORY DATA ANALYSIS OF PRODUCT_CONDITION"
      ]
    },
    {
      "cell_type": "code",
      "execution_count": null,
      "metadata": {
        "id": "045HlPHid0aI",
        "colab": {
          "base_uri": "https://localhost:8080/"
        },
        "outputId": "815f8e17-3c48-48a3-9e2c-4c1ff7187056"
      },
      "outputs": [
        {
          "output_type": "execute_result",
          "data": {
            "text/plain": [
              "count    1.259411e+06\n",
              "mean     1.907429e+00\n",
              "std      9.032613e-01\n",
              "min      1.000000e+00\n",
              "25%      1.000000e+00\n",
              "50%      2.000000e+00\n",
              "75%      3.000000e+00\n",
              "max      5.000000e+00\n",
              "Name: PRODUCT_CONDITION, dtype: float64"
            ]
          },
          "metadata": {},
          "execution_count": 13
        }
      ],
      "source": [
        "dataset[\"PRODUCT_CONDITION\"].describe()"
      ]
    },
    {
      "cell_type": "code",
      "execution_count": null,
      "metadata": {
        "id": "jxGIm9tbeWRY",
        "colab": {
          "base_uri": "https://localhost:8080/"
        },
        "outputId": "226b3671-7a0e-4c8b-dca0-afb887bf94e4"
      },
      "outputs": [
        {
          "output_type": "execute_result",
          "data": {
            "text/plain": [
              "1    544269\n",
              "3    367379\n",
              "2    318621\n",
              "4     27121\n",
              "5      2021\n",
              "Name: PRODUCT_CONDITION, dtype: int64"
            ]
          },
          "metadata": {},
          "execution_count": 14
        }
      ],
      "source": [
        "dataset[\"PRODUCT_CONDITION\"].value_counts()[:20]"
      ]
    },
    {
      "cell_type": "code",
      "execution_count": null,
      "metadata": {
        "id": "8lxQ8xijhFMr",
        "colab": {
          "base_uri": "https://localhost:8080/",
          "height": 297
        },
        "outputId": "f92684a8-0a5a-4cd9-a9e6-b92f6be53020"
      },
      "outputs": [
        {
          "output_type": "execute_result",
          "data": {
            "text/plain": [
              "<matplotlib.axes._subplots.AxesSubplot at 0x7f102318e5b0>"
            ]
          },
          "metadata": {},
          "execution_count": 15
        },
        {
          "output_type": "display_data",
          "data": {
            "text/plain": [
              "<Figure size 432x288 with 1 Axes>"
            ],
            "image/png": "[encoded data removed]"
          },
          "metadata": {}
        }
      ],
      "source": [
        "sns.set_style('whitegrid')\n",
        "sns.boxplot(x='PRODUCT_CONDITION',y='PRODUCT_PRICE',data=dataset)\n",
        "sns.stripplot(x='PRODUCT_CONDITION',y='PRODUCT_PRICE',data=dataset)"
      ]
    },
    {
      "cell_type": "code",
      "execution_count": null,
      "metadata": {
        "id": "PjRx1jc-hOUK",
        "colab": {
          "base_uri": "https://localhost:8080/"
        },
        "outputId": "bcdafcf5-492f-4de2-bbd7-495dcb71f106"
      },
      "outputs": [
        {
          "output_type": "stream",
          "name": "stdout",
          "text": [
            "Product Condition 1 Median Price:  18.0\n",
            "Product Condition 2 Median Price:  17.0\n",
            "Product Condition 3 Median Price:  16.0\n",
            "Product Condition 4 Median Price:  15.0\n",
            "Product Condition 5 Median Price:  19.0\n"
          ]
        }
      ],
      "source": [
        "for i in range(1,6):\n",
        "  print(\"Product Condition\",i,\"Median Price: \",dataset[dataset[\"PRODUCT_CONDITION\"]==i][\"PRODUCT_PRICE\"].median())"
      ]
    },
    {
      "cell_type": "markdown",
      "metadata": {
        "id": "hqxnYvO0juHK"
      },
      "source": [
        "The above boxplot shows the product prices for products falling under product conditions 1-5. The median of the prices decrease from product conditions 1-4, after which there is a sharp increase in the median of the prices for product condition 5."
      ]
    },
    {
      "cell_type": "markdown",
      "metadata": {
        "id": "S-SJq6607vTR"
      },
      "source": [
        "EXPLORATORY DATA ANALYSIS FOR CATEGORY"
      ]
    },
    {
      "cell_type": "code",
      "execution_count": null,
      "metadata": {
        "id": "WYmGC_Q68Cu1",
        "colab": {
          "base_uri": "https://localhost:8080/"
        },
        "outputId": "28dc38a2-8e2d-4dd9-aa8e-3f8e31c2075e"
      },
      "outputs": [
        {
          "output_type": "execute_result",
          "data": {
            "text/plain": [
              "count                                            1259411\n",
              "unique                                              1276\n",
              "top       Women/Athletic Apparel/Pants, Tights, Leggings\n",
              "freq                                               51181\n",
              "Name: CATEGORY, dtype: object"
            ]
          },
          "metadata": {},
          "execution_count": 17
        }
      ],
      "source": [
        "dataset[\"CATEGORY\"].describe()"
      ]
    },
    {
      "cell_type": "code",
      "execution_count": null,
      "metadata": {
        "id": "2SeIFqit8HJB",
        "colab": {
          "base_uri": "https://localhost:8080/"
        },
        "outputId": "4dfbf764-bd6f-41d3-9892-ef624d9d1f57"
      },
      "outputs": [
        {
          "output_type": "execute_result",
          "data": {
            "text/plain": [
              "Women/Athletic Apparel/Pants, Tights, Leggings                 51181\n",
              "Women/Tops & Blouses/T-Shirts                                  39358\n",
              "Beauty/Makeup/Face                                             29091\n",
              "Beauty/Makeup/Lips                                             25455\n",
              "Electronics/Video Games & Consoles/Games                       22420\n",
              "Beauty/Makeup/Eyes                                             21460\n",
              "Electronics/Cell Phones & Accessories/Cases, Covers & Skins    20951\n",
              "Women/Underwear/Bras                                           18080\n",
              "Women/Tops & Blouses/Tank, Cami                                17264\n",
              "Women/Tops & Blouses/Blouse                                    17167\n",
              "Women/Dresses/Above Knee, Mini                                 17073\n",
              "Women/Jewelry/Necklaces                                        16849\n",
              "Women/Athletic Apparel/Shorts                                  16510\n",
              "Beauty/Makeup/Makeup Palettes                                  16167\n",
              "Women/Shoes/Boots                                              16116\n",
              "Beauty/Fragrance/Women                                         15922\n",
              "Beauty/Skin Care/Face                                          13442\n",
              "Women/Women's Handbags/Shoulder Bag                            12991\n",
              "Men/Tops/T-shirts                                              12745\n",
              "Women/Athletic Apparel/Shirts & Tops                           12529\n",
              "Name: CATEGORY, dtype: int64"
            ]
          },
          "metadata": {},
          "execution_count": 18
        }
      ],
      "source": [
        "dataset[\"CATEGORY\"].value_counts()[:20]"
      ]
    },
    {
      "cell_type": "markdown",
      "metadata": {
        "id": "lQikLDFQ9Znd"
      },
      "source": [
        "Since element in the category column consists of three categories(each separated by a slash), we can separate them into three different columns. "
      ]
    },
    {
      "cell_type": "code",
      "execution_count": null,
      "metadata": {
        "id": "khfaFVpO99U8"
      },
      "outputs": [],
      "source": [
        "category_split1=[]\n",
        "category_split2=[]\n",
        "category_split3=[]\n",
        "for i in dataset[\"CATEGORY\"]:\n",
        "    sample = str(i)\n",
        "    value = i.split(\"/\")\n",
        "    if len(value)>=1:\n",
        "      category_split1.append(value[0])\n",
        "    else:\n",
        "      category_split1.append('Uncategorized')\n",
        "    if len(value)>=2:\n",
        "      category_split2.append(value[1])\n",
        "    else:\n",
        "      category_split2.append('Uncategorized')\n",
        "    if len(value)>=3:\n",
        "      category_split3.append(value[2])\n",
        "    else:\n",
        "      category_split3.append('Uncategorized')"
      ]
    },
    {
      "cell_type": "code",
      "execution_count": null,
      "metadata": {
        "id": "pVKt8xT89qrK",
        "colab": {
          "base_uri": "https://localhost:8080/",
          "height": 478
        },
        "outputId": "aed52dc9-e286-4786-d48e-e302edba406d"
      },
      "outputs": [
        {
          "output_type": "stream",
          "name": "stdout",
          "text": [
            "<class 'pandas.core.series.Series'>\n",
            "1259411\n",
            "(1259411, 11)\n"
          ]
        },
        {
          "output_type": "execute_result",
          "data": {
            "text/plain": [
              "   PRODUCT_ID                      PRODUCT_NAME  PRODUCT_CONDITION  \\\n",
              "0      952289     Lipstick queen reserved maiwu                  4   \n",
              "1      121903         Garbage Pail Kids blu ray                  3   \n",
              "2      280534                 green floam/slime                  1   \n",
              "3      787961             Wallet beige monogram                  1   \n",
              "4      479292  Triangle Bike Or Body Blue Light                  3   \n",
              "\n",
              "                            CATEGORY PRODUCT_BRAND  SHIPPING_AVAILABILITY  \\\n",
              "0                 Beauty/Makeup/Lips     Unbranded                      0   \n",
              "1          Electronics/Media/Blu-Ray     Unbranded                      1   \n",
              "2            Kids/Toys/Arts & Crafts     Unbranded                      0   \n",
              "3  Women/Women's Accessories/Wallets     Unbranded                      0   \n",
              "4   Sports & Outdoors/Outdoors/Other     Unbranded                      0   \n",
              "\n",
              "                                 PRODUCT_DESCRIPTION  PRODUCT_PRICE  \\\n",
              "0  Lipstick Queen Jean Queen and medieval lipstic...           20.0   \n",
              "1  26Plays great. Tested. Watched once. No scratc...           15.0   \n",
              "2  -6 oz, dragon fruit scented - KEEP OUT OF REAC...            8.0   \n",
              "3                        Wallet brand new never used           31.0   \n",
              "4  Triangle Bike Or Body Blue Light, steady or fl...            8.0   \n",
              "\n",
              "           CATEGORY1            CATEGORY2      CATEGORY3  \n",
              "0             Beauty               Makeup           Lips  \n",
              "1        Electronics                Media        Blu-Ray  \n",
              "2               Kids                 Toys  Arts & Crafts  \n",
              "3              Women  Women's Accessories        Wallets  \n",
              "4  Sports & Outdoors             Outdoors          Other  "
            ],
            "text/html": [
              "\n",
              "  <div id=\"df-47f24061-0e1e-435e-a1c7-cb5eaecbda6e\">\n",
              "    <div class=\"colab-df-container\">\n",
              "      <div>\n",
              "<style scoped>\n",
              "    .dataframe tbody tr th:only-of-type {\n",
              "        vertical-align: middle;\n",
              "    }\n",
              "\n",
              "    .dataframe tbody tr th {\n",
              "        vertical-align: top;\n",
              "    }\n",
              "\n",
              "    .dataframe thead th {\n",
              "        text-align: right;\n",
              "    }\n",
              "</style>\n",
              "<table border=\"1\" class=\"dataframe\">\n",
              "  <thead>\n",
              "    <tr style=\"text-align: right;\">\n",
              "      <th></th>\n",
              "      <th>PRODUCT_ID</th>\n",
              "      <th>PRODUCT_NAME</th>\n",
              "      <th>PRODUCT_CONDITION</th>\n",
              "      <th>CATEGORY</th>\n",
              "      <th>PRODUCT_BRAND</th>\n",
              "      <th>SHIPPING_AVAILABILITY</th>\n",
              "      <th>PRODUCT_DESCRIPTION</th>\n",
              "      <th>PRODUCT_PRICE</th>\n",
              "      <th>CATEGORY1</th>\n",
              "      <th>CATEGORY2</th>\n",
              "      <th>CATEGORY3</th>\n",
              "    </tr>\n",
              "  </thead>\n",
              "  <tbody>\n",
              "    <tr>\n",
              "      <th>0</th>\n",
              "      <td>952289</td>\n",
              "      <td>Lipstick queen reserved maiwu</td>\n",
              "      <td>4</td>\n",
              "      <td>Beauty/Makeup/Lips</td>\n",
              "      <td>Unbranded</td>\n",
              "      <td>0</td>\n",
              "      <td>Lipstick Queen Jean Queen and medieval lipstic...</td>\n",
              "      <td>20.0</td>\n",
              "      <td>Beauty</td>\n",
              "      <td>Makeup</td>\n",
              "      <td>Lips</td>\n",
              "    </tr>\n",
              "    <tr>\n",
              "      <th>1</th>\n",
              "      <td>121903</td>\n",
              "      <td>Garbage Pail Kids blu ray</td>\n",
              "      <td>3</td>\n",
              "      <td>Electronics/Media/Blu-Ray</td>\n",
              "      <td>Unbranded</td>\n",
              "      <td>1</td>\n",
              "      <td>26Plays great. Tested. Watched once. No scratc...</td>\n",
              "      <td>15.0</td>\n",
              "      <td>Electronics</td>\n",
              "      <td>Media</td>\n",
              "      <td>Blu-Ray</td>\n",
              "    </tr>\n",
              "    <tr>\n",
              "      <th>2</th>\n",
              "      <td>280534</td>\n",
              "      <td>green floam/slime</td>\n",
              "      <td>1</td>\n",
              "      <td>Kids/Toys/Arts &amp; Crafts</td>\n",
              "      <td>Unbranded</td>\n",
              "      <td>0</td>\n",
              "      <td>-6 oz, dragon fruit scented - KEEP OUT OF REAC...</td>\n",
              "      <td>8.0</td>\n",
              "      <td>Kids</td>\n",
              "      <td>Toys</td>\n",
              "      <td>Arts &amp; Crafts</td>\n",
              "    </tr>\n",
              "    <tr>\n",
              "      <th>3</th>\n",
              "      <td>787961</td>\n",
              "      <td>Wallet beige monogram</td>\n",
              "      <td>1</td>\n",
              "      <td>Women/Women's Accessories/Wallets</td>\n",
              "      <td>Unbranded</td>\n",
              "      <td>0</td>\n",
              "      <td>Wallet brand new never used</td>\n",
              "      <td>31.0</td>\n",
              "      <td>Women</td>\n",
              "      <td>Women's Accessories</td>\n",
              "      <td>Wallets</td>\n",
              "    </tr>\n",
              "    <tr>\n",
              "      <th>4</th>\n",
              "      <td>479292</td>\n",
              "      <td>Triangle Bike Or Body Blue Light</td>\n",
              "      <td>3</td>\n",
              "      <td>Sports &amp; Outdoors/Outdoors/Other</td>\n",
              "      <td>Unbranded</td>\n",
              "      <td>0</td>\n",
              "      <td>Triangle Bike Or Body Blue Light, steady or fl...</td>\n",
              "      <td>8.0</td>\n",
              "      <td>Sports &amp; Outdoors</td>\n",
              "      <td>Outdoors</td>\n",
              "      <td>Other</td>\n",
              "    </tr>\n",
              "  </tbody>\n",
              "</table>\n",
              "</div>\n",
              "      <button class=\"colab-df-convert\" onclick=\"convertToInteractive('df-47f24061-0e1e-435e-a1c7-cb5eaecbda6e')\"\n",
              "              title=\"Convert this dataframe to an interactive table.\"\n",
              "              style=\"display:none;\">\n",
              "        \n",
              "  <svg xmlns=\"http://www.w3.org/2000/svg\" height=\"24px\"viewBox=\"0 0 24 24\"\n",
              "       width=\"24px\">\n",
              "    <path d=\"M0 0h24v24H0V0z\" fill=\"none\"/>\n",
              "    <path d=\"M18.56 5.44l.94 2.06.94-2.06 2.06-.94-2.06-.94-.94-2.06-.94 2.06-2.06.94zm-11 1L8.5 8.5l.94-2.06 2.06-.94-2.06-.94L8.5 2.5l-.94 2.06-2.06.94zm10 10l.94 2.06.94-2.06 2.06-.94-2.06-.94-.94-2.06-.94 2.06-2.06.94z\"/><path d=\"M17.41 7.96l-1.37-1.37c-.4-.4-.92-.59-1.43-.59-.52 0-1.04.2-1.43.59L10.3 9.45l-7.72 7.72c-.78.78-.78 2.05 0 2.83L4 21.41c.39.39.9.59 1.41.59.51 0 1.02-.2 1.41-.59l7.78-7.78 2.81-2.81c.8-.78.8-2.07 0-2.86zM5.41 20L4 18.59l7.72-7.72 1.47 1.35L5.41 20z\"/>\n",
              "  </svg>\n",
              "      </button>\n",
              "      \n",
              "  <style>\n",
              "    .colab-df-container {\n",
              "      display:flex;\n",
              "      flex-wrap:wrap;\n",
              "      gap: 12px;\n",
              "    }\n",
              "\n",
              "    .colab-df-convert {\n",
              "      background-color: #E8F0FE;\n",
              "      border: none;\n",
              "      border-radius: 50%;\n",
              "      cursor: pointer;\n",
              "      display: none;\n",
              "      fill: #1967D2;\n",
              "      height: 32px;\n",
              "      padding: 0 0 0 0;\n",
              "      width: 32px;\n",
              "    }\n",
              "\n",
              "    .colab-df-convert:hover {\n",
              "      background-color: #E2EBFA;\n",
              "      box-shadow: 0px 1px 2px rgba(60, 64, 67, 0.3), 0px 1px 3px 1px rgba(60, 64, 67, 0.15);\n",
              "      fill: #174EA6;\n",
              "    }\n",
              "\n",
              "    [theme=dark] .colab-df-convert {\n",
              "      background-color: #3B4455;\n",
              "      fill: #D2E3FC;\n",
              "    }\n",
              "\n",
              "    [theme=dark] .colab-df-convert:hover {\n",
              "      background-color: #434B5C;\n",
              "      box-shadow: 0px 1px 3px 1px rgba(0, 0, 0, 0.15);\n",
              "      filter: drop-shadow(0px 1px 2px rgba(0, 0, 0, 0.3));\n",
              "      fill: #FFFFFF;\n",
              "    }\n",
              "  </style>\n",
              "\n",
              "      <script>\n",
              "        const buttonEl =\n",
              "          document.querySelector('#df-47f24061-0e1e-435e-a1c7-cb5eaecbda6e button.colab-df-convert');\n",
              "        buttonEl.style.display =\n",
              "          google.colab.kernel.accessAllowed ? 'block' : 'none';\n",
              "\n",
              "        async function convertToInteractive(key) {\n",
              "          const element = document.querySelector('#df-47f24061-0e1e-435e-a1c7-cb5eaecbda6e');\n",
              "          const dataTable =\n",
              "            await google.colab.kernel.invokeFunction('convertToInteractive',\n",
              "                                                     [key], {});\n",
              "          if (!dataTable) return;\n",
              "\n",
              "          const docLinkHtml = 'Like what you see? Visit the ' +\n",
              "            '<a target=\"_blank\" href=https://colab.research.google.com/notebooks/data_table.ipynb>data table notebook</a>'\n",
              "            + ' to learn more about interactive tables.';\n",
              "          element.innerHTML = '';\n",
              "          dataTable['output_type'] = 'display_data';\n",
              "          await google.colab.output.renderOutput(dataTable, element);\n",
              "          const docLink = document.createElement('div');\n",
              "          docLink.innerHTML = docLinkHtml;\n",
              "          element.appendChild(docLink);\n",
              "        }\n",
              "      </script>\n",
              "    </div>\n",
              "  </div>\n",
              "  "
            ]
          },
          "metadata": {},
          "execution_count": 20
        }
      ],
      "source": [
        "print(type(dataset['CATEGORY']))\n",
        "dataset['CATEGORY1'] = category_split1\n",
        "dataset['CATEGORY2'] = category_split2\n",
        "dataset['CATEGORY3'] = category_split3\n",
        "\n",
        "print(len(category_split1))\n",
        "print(dataset.shape)\n",
        "dataset.head()"
      ]
    },
    {
      "cell_type": "code",
      "execution_count": null,
      "metadata": {
        "id": "MQLu0jZtCS8Y"
      },
      "outputs": [],
      "source": [
        "category_split1=[]\n",
        "category_split2=[]\n",
        "category_split3=[]\n",
        "for i in test[\"CATEGORY\"]:\n",
        "    sample = str(i)\n",
        "    value = i.split(\"/\")\n",
        "    if len(value)>=1:\n",
        "      category_split1.append(value[0])\n",
        "    else:\n",
        "      category_split1.append('Uncategorized')\n",
        "    if len(value)>=2:\n",
        "      category_split2.append(value[1])\n",
        "    else:\n",
        "      category_split2.append('Uncategorized')\n",
        "    if len(value)>=3:\n",
        "      category_split3.append(value[2])\n",
        "    else:\n",
        "      category_split3.append('Uncategorized')"
      ]
    },
    {
      "cell_type": "code",
      "execution_count": null,
      "metadata": {
        "id": "FrLpFp21CS8q"
      },
      "outputs": [],
      "source": [
        "\n",
        "test['CATEGORY1'] = category_split1\n",
        "test['CATEGORY2'] = category_split2\n",
        "test['CATEGORY3'] = category_split3\n",
        "\n",
        "\n"
      ]
    },
    {
      "cell_type": "markdown",
      "metadata": {
        "id": "lSynJHbEA9ZY"
      },
      "source": [
        "EXPLORATORY DATA ANALYSIS FOR PRODUCT_BRAND"
      ]
    },
    {
      "cell_type": "code",
      "execution_count": null,
      "metadata": {
        "id": "SfN0RL4IB2Yh",
        "colab": {
          "base_uri": "https://localhost:8080/"
        },
        "outputId": "812b8167-92a2-4c1c-a543-c2b310e926ac"
      },
      "outputs": [
        {
          "output_type": "execute_result",
          "data": {
            "text/plain": [
              "count       1259411\n",
              "unique         4630\n",
              "top       Unbranded\n",
              "freq         537586\n",
              "Name: PRODUCT_BRAND, dtype: object"
            ]
          },
          "metadata": {},
          "execution_count": 23
        }
      ],
      "source": [
        "dataset[\"PRODUCT_BRAND\"].describe()"
      ]
    },
    {
      "cell_type": "code",
      "execution_count": null,
      "metadata": {
        "id": "iQZ3LZWRB2Yh",
        "colab": {
          "base_uri": "https://localhost:8080/"
        },
        "outputId": "fd25d964-bc51-4787-c452-ba6c4a0ebc73"
      },
      "outputs": [
        {
          "output_type": "execute_result",
          "data": {
            "text/plain": [
              "Unbranded            537586\n",
              "Nike                  46008\n",
              "PINK                  45934\n",
              "Victoria's Secret     40805\n",
              "LuLaRoe               26347\n",
              "Apple                 14669\n",
              "FOREVER 21            12898\n",
              "Nintendo              12680\n",
              "Lululemon             12318\n",
              "Michael Kors          11814\n",
              "American Eagle        11328\n",
              "Rae Dunn              10415\n",
              "Sephora               10401\n",
              "Coach                  8906\n",
              "Disney                 8846\n",
              "Bath & Body Works      8796\n",
              "Adidas                 8695\n",
              "Funko                  7803\n",
              "Under Armour           7190\n",
              "Sony                   6761\n",
              "Name: PRODUCT_BRAND, dtype: int64"
            ]
          },
          "metadata": {},
          "execution_count": 24
        }
      ],
      "source": [
        "dataset[\"PRODUCT_BRAND\"].value_counts()[:20]"
      ]
    },
    {
      "cell_type": "markdown",
      "source": [
        "Since there almost half of the brand entries in this dataset are \"Unbranded\", we will try to infer the brand of the product from the product description. "
      ],
      "metadata": {
        "id": "7m_Brig0ck4z"
      }
    },
    {
      "cell_type": "markdown",
      "metadata": {
        "id": "ktj5W_DqDE7S"
      },
      "source": [
        "EXPLORATORY DATA ANALYSIS FOR SHIPPING_AVAILABILITY"
      ]
    },
    {
      "cell_type": "code",
      "execution_count": null,
      "metadata": {
        "id": "nl5ncTVGDJi0",
        "colab": {
          "base_uri": "https://localhost:8080/"
        },
        "outputId": "74b4b628-3014-4fa3-bd89-9379d9f0fde8"
      },
      "outputs": [
        {
          "output_type": "execute_result",
          "data": {
            "text/plain": [
              "count    1.259411e+06\n",
              "mean     4.472892e-01\n",
              "std      4.972140e-01\n",
              "min      0.000000e+00\n",
              "25%      0.000000e+00\n",
              "50%      0.000000e+00\n",
              "75%      1.000000e+00\n",
              "max      1.000000e+00\n",
              "Name: SHIPPING_AVAILABILITY, dtype: float64"
            ]
          },
          "metadata": {},
          "execution_count": 25
        }
      ],
      "source": [
        "dataset[\"SHIPPING_AVAILABILITY\"].describe()"
      ]
    },
    {
      "cell_type": "code",
      "execution_count": null,
      "metadata": {
        "id": "VcmWPcAaDJi0",
        "colab": {
          "base_uri": "https://localhost:8080/"
        },
        "outputId": "a31dd0b5-8f9a-4a73-b428-0785b5e432bc"
      },
      "outputs": [
        {
          "output_type": "execute_result",
          "data": {
            "text/plain": [
              "0    696090\n",
              "1    563321\n",
              "Name: SHIPPING_AVAILABILITY, dtype: int64"
            ]
          },
          "metadata": {},
          "execution_count": 26
        }
      ],
      "source": [
        "dataset[\"SHIPPING_AVAILABILITY\"].value_counts()[:20]"
      ]
    },
    {
      "cell_type": "code",
      "execution_count": null,
      "metadata": {
        "id": "yhZe2xLaDUMG",
        "colab": {
          "base_uri": "https://localhost:8080/",
          "height": 297
        },
        "outputId": "eba4bd5d-7e50-4e63-9803-aa942d3ca125"
      },
      "outputs": [
        {
          "output_type": "execute_result",
          "data": {
            "text/plain": [
              "<matplotlib.axes._subplots.AxesSubplot at 0x7f10135ffc40>"
            ]
          },
          "metadata": {},
          "execution_count": 27
        },
        {
          "output_type": "display_data",
          "data": {
            "text/plain": [
              "<Figure size 432x288 with 1 Axes>"
            ],
            "image/png": "[encoded data removed]"
          },
          "metadata": {}
        }
      ],
      "source": [
        "sns.set_style('whitegrid')\n",
        "sns.boxplot(x='SHIPPING_AVAILABILITY',y='PRODUCT_PRICE',data=dataset)\n",
        "sns.stripplot(x='SHIPPING_AVAILABILITY',y='PRODUCT_PRICE',data=dataset)"
      ]
    },
    {
      "cell_type": "code",
      "execution_count": null,
      "metadata": {
        "id": "5Ey1yFSmDdwU",
        "colab": {
          "base_uri": "https://localhost:8080/"
        },
        "outputId": "65732b44-94eb-4660-e300-b2921c8fc060"
      },
      "outputs": [
        {
          "output_type": "stream",
          "name": "stdout",
          "text": [
            "Shipping Availability 0 Median Price:  20.0\n",
            "Shipping Availability 1 Median Price:  14.0\n"
          ]
        }
      ],
      "source": [
        "print(\"Shipping Availability\",0,\"Median Price: \",dataset[dataset[\"SHIPPING_AVAILABILITY\"]==0][\"PRODUCT_PRICE\"].median())\n",
        "print(\"Shipping Availability\",1,\"Median Price: \",dataset[dataset[\"SHIPPING_AVAILABILITY\"]==1][\"PRODUCT_PRICE\"].median())"
      ]
    },
    {
      "cell_type": "markdown",
      "metadata": {
        "id": "jiGDPMojDv5C"
      },
      "source": [
        "The median price for items that are not available for shipping is higher that the median price for items that are available for shipping. "
      ]
    },
    {
      "cell_type": "markdown",
      "metadata": {
        "id": "3GsZdE2yGMVl"
      },
      "source": [
        "PRE-PROCESSING FOR PRODUCT_NAME"
      ]
    },
    {
      "cell_type": "markdown",
      "source": [
        "All special characters and punctuation marks are removed from the name and description columns. "
      ],
      "metadata": {
        "id": "uC9meqWSdTws"
      }
    },
    {
      "cell_type": "code",
      "execution_count": null,
      "metadata": {
        "id": "G5mVd2lCGLko"
      },
      "outputs": [],
      "source": [
        "product_name=[]\n",
        "for i in dataset[\"PRODUCT_NAME\"]:\n",
        "  name = re.sub('[^A-Za-z0-9]+', ' ', i)\n",
        "  product_name.append(name.lower())\n",
        "\n",
        "dataset[\"PRODUCT_NAME\"]=product_name\n",
        "\n",
        "product_desc=[]\n",
        "\n",
        "for i in dataset[\"PRODUCT_DESCRIPTION\"]:\n",
        "  desc = re.sub('[^A-Za-z0-9]+', ' ', i)\n",
        "  product_desc.append(desc.lower().strip())\n",
        "\n",
        "dataset[\"PRODUCT_DESCRIPTION\"]=product_desc\n",
        "\n",
        "#dataset[\"PRODUCT_NAME\"].value_counts()[:20]"
      ]
    },
    {
      "cell_type": "code",
      "execution_count": null,
      "metadata": {
        "id": "-Hb694QWCixZ"
      },
      "outputs": [],
      "source": [
        "product_name=[]\n",
        "for i in test[\"PRODUCT_NAME\"]:\n",
        "  name = re.sub('[^A-Za-z0-9]+', ' ', i)\n",
        "  product_name.append(name.lower())\n",
        "\n",
        "test[\"PRODUCT_NAME\"]=product_name\n",
        "\n",
        "product_desc=[]\n",
        "\n",
        "for i in test[\"PRODUCT_DESCRIPTION\"]:\n",
        "  \n",
        "  desc = re.sub('[^A-Za-z0-9]+', ' ', i)\n",
        "  product_desc.append(desc.lower().strip())\n",
        "\n",
        "test[\"PRODUCT_DESCRIPTION\"]=product_desc\n"
      ]
    },
    {
      "cell_type": "code",
      "execution_count": null,
      "metadata": {
        "id": "1qhsblYo6Qrn"
      },
      "outputs": [],
      "source": [
        "from gensim.parsing.preprocessing import remove_stopwords, STOPWORDS\n",
        "product_desc=dataset[\"PRODUCT_DESCRIPTION\"]\n",
        "new_product_desc=[]\n",
        "for desc in product_desc:\n",
        "  new_product_desc.append(remove_stopwords(desc))\n",
        "dataset[\"PRODUCT_DESCRIPTION\"]=new_product_desc"
      ]
    },
    {
      "cell_type": "code",
      "execution_count": null,
      "metadata": {
        "id": "Ix5xukhg6Qrn"
      },
      "outputs": [],
      "source": [
        "product_desc=test[\"PRODUCT_DESCRIPTION\"]\n",
        "new_product_desc=[]\n",
        "for desc in product_desc:\n",
        "  new_product_desc.append(remove_stopwords(desc))\n",
        "test[\"PRODUCT_DESCRIPTION\"]=new_product_desc"
      ]
    },
    {
      "cell_type": "code",
      "execution_count": null,
      "metadata": {
        "id": "ybkenPTlEDnn",
        "colab": {
          "base_uri": "https://localhost:8080/"
        },
        "outputId": "fd3b91ff-fdb5-48d4-c312-3f4946a9d3d8"
      },
      "outputs": [
        {
          "output_type": "execute_result",
          "data": {
            "text/plain": [
              "bundle                  2332\n",
              "lularoe tc leggings      954\n",
              "lularoe os leggings      772\n",
              "miss me jeans            573\n",
              "coach purse              571\n",
              "american eagle jeans     564\n",
              "reserved                 562\n",
              "on hold                  485\n",
              "michael kors purse       468\n",
              "bundle                   459\n",
              "michael kors wallet      409\n",
              "converse                 404\n",
              "coach wallet             379\n",
              "lularoe irma             371\n",
              "dress                    363\n",
              "nike shorts              343\n",
              "lularoe leggings         335\n",
              "coach wristlet           333\n",
              "vans                     321\n",
              "reserved bundle          321\n",
              "Name: PRODUCT_NAME, dtype: int64"
            ]
          },
          "metadata": {},
          "execution_count": 33
        }
      ],
      "source": [
        "dataset[\"PRODUCT_NAME\"].value_counts()[:20]"
      ]
    },
    {
      "cell_type": "markdown",
      "source": [
        "The following code checks if the product description column corresponding to Unbranded products contains any of the brand names present in the brand column. If it does, \"Unbranded\" is replaced with that brand name. "
      ],
      "metadata": {
        "id": "DEoQ7uy2dcdW"
      }
    },
    {
      "cell_type": "code",
      "source": [
        "updatedbrands=[]\n",
        "brands = dataset['PRODUCT_BRAND'].unique()\n",
        "brands=list(brands)\n",
        "brands.remove('Unbranded')\n",
        "for row in dataset.itertuples():\n",
        "  flag=False\n",
        "  if str(row.PRODUCT_BRAND) == 'Unbranded':\n",
        "    for brand in brands:\n",
        "      if str(brand) in str(row.PRODUCT_DESCRIPTION):\n",
        "        flag=True\n",
        "        updatedbrands.append(str(brand))\n",
        "        break\n",
        "    if flag==False:\n",
        "      updatedbrands.append('Unbranded')\n",
        "  else:\n",
        "    updatedbrands.append(str(row.PRODUCT_BRAND))\n",
        "\n",
        "dataset[\"PRODUCT_BRAND\"]=updatedbrands"
      ],
      "metadata": {
        "id": "6wZqKz7xZeZw"
      },
      "execution_count": null,
      "outputs": []
    },
    {
      "cell_type": "code",
      "source": [
        "updatedbrands=[]\n",
        "brands = test['PRODUCT_BRAND'].unique()\n",
        "brands=list(brands)\n",
        "brands.remove('Unbranded')\n",
        "for row in test.itertuples():\n",
        "  flag=False\n",
        "  if str(row.PRODUCT_BRAND) == 'Unbranded':\n",
        "    for brand in brands:\n",
        "      if str(brand) in str(row.PRODUCT_DESCRIPTION):\n",
        "        flag=True\n",
        "        updatedbrands.append(str(brand))\n",
        "        break\n",
        "    if flag==False:\n",
        "      updatedbrands.append('Unbranded')\n",
        "  else:\n",
        "    updatedbrands.append(str(row.PRODUCT_BRAND))\n",
        "\n",
        "test[\"PRODUCT_BRAND\"]=updatedbrands"
      ],
      "metadata": {
        "id": "AJCDk7ZsbSEt"
      },
      "execution_count": null,
      "outputs": []
    },
    {
      "cell_type": "code",
      "source": [],
      "metadata": {
        "id": "wRCBUUtkYr8f"
      },
      "execution_count": null,
      "outputs": []
    },
    {
      "cell_type": "markdown",
      "metadata": {
        "id": "psajK63lw9w1"
      },
      "source": [
        "VECTORIZATION and LABEL_BINARIZER"
      ]
    },
    {
      "cell_type": "markdown",
      "source": [
        "The following code vectorizes the name and description column and label binarizes the other columns. The vectorization process maps a string to about 100000 columns of numerical data, each column consisting of a value between 0 and 1. The Binarization process is an efficient form of pure one hot encoding, where 1 column value corresponding to a row has a value of 1 and all other columns have a value of 0. \n",
        "\n",
        "---\n",
        "\n"
      ],
      "metadata": {
        "id": "YTirQU7ti7IV"
      }
    },
    {
      "cell_type": "code",
      "execution_count": null,
      "metadata": {
        "id": "DWl4ECPF6Qrq"
      },
      "outputs": [],
      "source": [
        "def vectorize_column(column, vectorizer):\n",
        "    if vectorizer==None:\n",
        "      vectorizer = TfidfVectorizer(ngram_range=(1,2), max_features=100000)\n",
        "      vectorizer.fit(column)\n",
        "    transformed_column = vectorizer.transform(column)\n",
        "    return transformed_column, vectorizer"
      ]
    },
    {
      "cell_type": "code",
      "execution_count": null,
      "metadata": {
        "id": "EHsCwD4D6Qrr"
      },
      "outputs": [],
      "source": [
        "\n",
        "x_train = dataset\n",
        "#x_train=dataset.to_numpy().astype(np.float64)"
      ]
    },
    {
      "cell_type": "code",
      "execution_count": null,
      "metadata": {
        "id": "9l1d78w56Qrs"
      },
      "outputs": [],
      "source": [
        "from sklearn.preprocessing import LabelBinarizer\n",
        "lb_item_condition_id = LabelBinarizer(sparse_output=True)\n",
        "productcondition = lb_item_condition_id.fit_transform(x_train['PRODUCT_CONDITION'])\n",
        "\n",
        "lb_shipping = LabelBinarizer(sparse_output=True)\n",
        "shippingavailability = lb_shipping.fit_transform(x_train['SHIPPING_AVAILABILITY'])\n",
        "\n",
        "lb_cat1 = LabelBinarizer(sparse_output=True)\n",
        "cat1 = lb_cat1.fit_transform(x_train['CATEGORY1'])\n",
        "\n",
        "lb_cat2 = LabelBinarizer(sparse_output=True)\n",
        "cat2 = lb_cat2.fit_transform(x_train['CATEGORY2'])\n",
        "\n",
        "lb_cat3 = LabelBinarizer(sparse_output=True)\n",
        "cat3 = lb_cat3.fit_transform(x_train['CATEGORY3'])\n",
        "\n",
        "lb_brand= LabelBinarizer(sparse_output=True)\n",
        "brand = lb_brand.fit_transform(x_train['PRODUCT_BRAND'])\n",
        "\n",
        "name, nametemp = vectorize_column(x_train['PRODUCT_NAME'], None)\n",
        "desc, desctemp = vectorize_column(x_train['PRODUCT_DESCRIPTION'], None)\n"
      ]
    },
    {
      "cell_type": "code",
      "execution_count": null,
      "metadata": {
        "id": "TXun4yfH6Qrs"
      },
      "outputs": [],
      "source": [
        "\n",
        "x_train_final = hstack((cat1, cat2, cat3, brand, name, desc, productcondition, shippingavailability)).tocsr()"
      ]
    },
    {
      "cell_type": "code",
      "execution_count": null,
      "metadata": {
        "id": "wtCcGOfV6Qrt"
      },
      "outputs": [],
      "source": [
        "x_test = test"
      ]
    },
    {
      "cell_type": "code",
      "execution_count": null,
      "metadata": {
        "id": "eRYTi5eI6Qrt"
      },
      "outputs": [],
      "source": [
        "shippingavailability = lb_shipping.transform(x_test['SHIPPING_AVAILABILITY'])\n",
        "productcondition = lb_item_condition_id.transform(x_test['PRODUCT_CONDITION'])\n",
        "cat1 = lb_cat1.transform(x_test['CATEGORY1'])\n",
        "cat2 = lb_cat2.transform(x_test['CATEGORY2'])\n",
        "cat3 = lb_cat3.transform(x_test['CATEGORY3'])\n",
        "brand = lb_brand.transform(x_test['PRODUCT_BRAND'])\n",
        "\n",
        "name, nametemp1 = vectorize_column(x_test['PRODUCT_NAME'], nametemp)\n",
        "desc, desctemp1 = vectorize_column(x_test['PRODUCT_DESCRIPTION'], desctemp)"
      ]
    },
    {
      "cell_type": "code",
      "execution_count": null,
      "metadata": {
        "id": "U6x-jyNw6Qrt"
      },
      "outputs": [],
      "source": [
        "x_test_final = hstack((cat1, cat2, cat3, brand, name, desc, productcondition, shippingavailability)).tocsr()"
      ]
    },
    {
      "cell_type": "markdown",
      "source": [
        "The following is a neural networks model with a batch size of 2048 and 5 hidden layers. Many combinations of layers and neurons were tested out. The following gave us the best MSLE.  "
      ],
      "metadata": {
        "id": "vFjnwusPlJcP"
      }
    },
    {
      "cell_type": "code",
      "source": [
        "import keras\n",
        "from keras import backend, optimizers, callbacks\n",
        "from keras.models import Model\n",
        "from keras.layers import Input, Dense\n",
        "def nn_model(X, y):\n",
        "    \n",
        "    model_in = Input(shape = (X.shape[1],), dtype = 'float32', sparse = True)\n",
        "    out=Dense(1024, activation='relu')(model_in)\n",
        "    out=Dense(512, activation='relu')(out)\n",
        "    out=Dense(256, activation='relu')(out)\n",
        "    out=Dense(128, activation='relu')(out)\n",
        "    out=Dense(64, activation='relu')(out)\n",
        "\n",
        "    model_out=Dense(1)(out)    \n",
        "    model = Model(model_in, model_out)    \n",
        "    model.compile(loss = 'mean_squared_error', optimizer = keras.optimizers.Adam(3e-3))   \n",
        "    model.fit(X, y, batch_size = 2048, epochs = 1, verbose = 1)\n",
        "    \n",
        "    return model"
      ],
      "metadata": {
        "id": "-FREZ_pnTr-t"
      },
      "execution_count": null,
      "outputs": []
    },
    {
      "cell_type": "code",
      "source": [
        "x_train_final"
      ],
      "metadata": {
        "colab": {
          "base_uri": "https://localhost:8080/"
        },
        "id": "gLSXGBTanFb4",
        "outputId": "e33afc3b-8481-4da6-9ea2-b9cc2bab89aa"
      },
      "execution_count": null,
      "outputs": [
        {
          "output_type": "execute_result",
          "data": {
            "text/plain": [
              "<1259411x205625 sparse matrix of type '<class 'numpy.float64'>'\n",
              "\twith 42271957 stored elements in Compressed Sparse Row format>"
            ]
          },
          "metadata": {},
          "execution_count": 44
        }
      ]
    },
    {
      "cell_type": "code",
      "source": [
        "x_test_final"
      ],
      "metadata": {
        "colab": {
          "base_uri": "https://localhost:8080/"
        },
        "id": "NTiolRJ6nHUK",
        "outputId": "aa177671-65de-43c8-ffc4-7a984641d6ec"
      },
      "execution_count": null,
      "outputs": [
        {
          "output_type": "execute_result",
          "data": {
            "text/plain": [
              "<222381x205625 sparse matrix of type '<class 'numpy.float64'>'\n",
              "\twith 7433938 stored elements in Compressed Sparse Row format>"
            ]
          },
          "metadata": {},
          "execution_count": 45
        }
      ]
    },
    {
      "cell_type": "markdown",
      "source": [
        "If product price is p, the model predicts the **variance of log(p+1)**. \n",
        "\n",
        "\n"
      ],
      "metadata": {
        "id": "AsE8DEqWlt0f"
      }
    },
    {
      "cell_type": "code",
      "execution_count": null,
      "metadata": {
        "id": "GNpgSB_H6Qru"
      },
      "outputs": [],
      "source": [
        "from sklearn.preprocessing import StandardScaler\n",
        "scaler = StandardScaler()\n",
        "y_train = scaler.fit_transform(np.log1p(dataset['PRODUCT_PRICE'].values.reshape(-1, 1)))\n"
      ]
    },
    {
      "cell_type": "code",
      "source": [
        "model = nn_model(x_train_final, y_train)"
      ],
      "metadata": {
        "id": "LWazg9RXUMuh",
        "colab": {
          "base_uri": "https://localhost:8080/"
        },
        "outputId": "49571dbd-6abd-4187-ff8b-d66cba94bdb6"
      },
      "execution_count": null,
      "outputs": [
        {
          "output_type": "stream",
          "name": "stderr",
          "text": [
            "/usr/local/lib/python3.8/dist-packages/tensorflow/python/framework/indexed_slices.py:444: UserWarning: Converting sparse IndexedSlices(IndexedSlices(indices=Tensor(\"gradient_tape/model/dense/embedding_lookup_sparse/Reshape_1:0\", shape=(None,), dtype=int32), values=Tensor(\"gradient_tape/model/dense/embedding_lookup_sparse/Reshape:0\", shape=(None, 1024), dtype=float32), dense_shape=Tensor(\"gradient_tape/model/dense/embedding_lookup_sparse/Cast:0\", shape=(2,), dtype=int32))) to a dense Tensor of unknown shape. This may consume a large amount of memory.\n",
            "  warnings.warn(\n"
          ]
        },
        {
          "output_type": "stream",
          "name": "stdout",
          "text": [
            "615/615 [==============================] - 1673s 3s/step - loss: 0.3619\n"
          ]
        }
      ]
    },
    {
      "cell_type": "markdown",
      "source": [
        "The predicted values are scaled back up and inversed [exp(y_pred)-1]. "
      ],
      "metadata": {
        "id": "VdJYlKh2mEZv"
      }
    },
    {
      "cell_type": "code",
      "source": [
        "y_pred = model.predict(x_test_final)\n",
        "y_pred=np.expm1(scaler.inverse_transform(y_pred.reshape(-1, 1)))"
      ],
      "metadata": {
        "id": "x-r5IRK7UX9O",
        "colab": {
          "base_uri": "https://localhost:8080/"
        },
        "outputId": "85cb5f87-d1db-4a61-bce1-c7984c39286b"
      },
      "execution_count": null,
      "outputs": [
        {
          "output_type": "stream",
          "name": "stdout",
          "text": [
            "6950/6950 [==============================] - 66s 9ms/step\n"
          ]
        }
      ]
    },
    {
      "cell_type": "code",
      "execution_count": null,
      "metadata": {
        "id": "viuppRBF6Qru"
      },
      "outputs": [],
      "source": [
        "submission=pd.read_csv(\"/content/drive/MyDrive/ML/submission.csv\")[\"PRODUCT_ID\"]\n",
        "submission=pd.concat([submission,pd.DataFrame(y_pred)],axis=1)\n",
        "submission.to_csv('/content/drive/MyDrive/ML/submission7.csv')"
      ]
    }
  ],
  "metadata": {
    "colab": {
      "provenance": []
    },
    "kernelspec": {
      "display_name": "Python 3.10.6 64-bit",
      "language": "python",
      "name": "python3"
    },
    "language_info": {
      "codemirror_mode": {
        "name": "ipython",
        "version": 3
      },
      "file_extension": ".py",
      "mimetype": "text/x-python",
      "name": "python",
      "nbconvert_exporter": "python",
      "pygments_lexer": "ipython3",
      "version": "3.10.6"
    },
    "vscode": {
      "interpreter": {
        "hash": "26de051ba29f2982a8de78e945f0abaf191376122a1563185a90213a26c5da77"
      }
    }
  },
  "nbformat": 4,
  "nbformat_minor": 0
}